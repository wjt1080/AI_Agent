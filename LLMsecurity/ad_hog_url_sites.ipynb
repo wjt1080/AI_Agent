{
 "cells": [
  {
   "cell_type": "code",
   "execution_count": 3,
   "id": "fe34a6ed",
   "metadata": {},
   "outputs": [],
   "source": [
    "import requests\n",
    "import re\n",
    "import json\n",
    "from collections import Counter\n",
    "from bs4 import BeautifulSoup\n",
    "from datetime import datetime"
   ]
  },
  {
   "cell_type": "markdown",
   "id": "24840f00",
   "metadata": {},
   "source": [
    "# Github ad hoc listed urls\n",
    "\n",
    "those are ad hoc urls sites on Github such that listing many AI security related materials, including research papers, newsletters, blog articles, github source and youtube videos. For right now, we will ignore those youtube video links.\n"
   ]
  },
  {
   "cell_type": "markdown",
   "id": "63af73c8",
   "metadata": {},
   "source": [
    "## OWASP Educational-Resources\n",
    "\n",
    "github link: https://github.com/OWASP/www-project-top-10-for-large-language-model-applications/wiki/Educational-Resources#articles"
   ]
  },
  {
   "cell_type": "code",
   "execution_count": 26,
   "id": "e3b2e15d",
   "metadata": {
    "scrolled": true
   },
   "outputs": [
    {
     "name": "stdout",
     "output_type": "stream",
     "text": [
      "https://labs.withsecure.com/publications/llm-agent-prompt-injection\n",
      "https://cyber-security.wiki/docs/machine-learning/learning/\n",
      "https://blog.ifoodsecurity.com/llm/ml/mlsec/langchain/cve/prompt/injection/2023/09/04/langchain-vulns.html\n",
      "https://github.com/subzer0girl2/AI-Threat-Mind-Map\n",
      "https://kenhuangus.medium.com/llm-powered-applications-architecture-patterns-and-security-controls-7a153c3ec9f4/\n",
      "https://medium.com/@aicyberking/an-over-friendly-conversation-with-chatgpt-hacking-openai-avinash-sinha-35c05e4e2dd5/\n",
      "https://medium.com/@aicyberking/part-2-an-over-friendly-conversation-with-chatgpt-7ea21ce93114/\n",
      "https://www.wired.com/story/chatgpt-jailbreak-generative-ai-hacking/\n",
      "https://themathcompany.com/blog/data-poisoning-and-its-impact-on-the-ai-ecosystem\n",
      "https://spectrum.ieee.org/ai-cybersecurity-data-poisoning\n",
      "https://ambcrypto.com/heres-how-to-jailbreak-chatgpt-with-the-top-4-methods-5/\n",
      "https://www.techopedia.com/what-is-jailbreaking-in-ai-models-like-chatgpt\n",
      "https://www.theregister.com/2023/04/26/simon_willison_prompt_injection/\n",
      "https://blogs.itemis.com/en/model-attacks-exploits-and-vulnerabilities\n",
      "https://hiddenlayer.com/research/the-dark-side-of-large-language-models/\n",
      "https://hiddenlayer.com/research/the-dark-side-of-large-language-models-2/\n",
      "https://embracethered.com/blog/posts/2023/ai-injections-direct-and-indirect-prompt-injection-basics/\n",
      "https://embracethered.com/blog/posts/2023/ai-injections-threats-context-matters/\n",
      "https://www.mufeedvh.com/llm-security/\n",
      "https://danielmiessler.com/blog/the-ai-attack-surface-map-v1-0/\n",
      "https://www.darkreading.com/vulnerabilities-threats/tech-insight-dangers-of-using-large-language-models-before-they-are-baked\n",
      "https://www.honeycomb.io/blog/hard-stuff-nobody-talks-about-llm\n",
      "https://www.wired.com/story/chatgpt-prompt-injection-attack-security/\n",
      "https://www.bizpacreview.com/2023/05/30/i-was-unaware-ny-attorney-faces-sanctions-after-using-chatgpt-to-write-brief-filled-with-bogus-citations-1363537/\n",
      "https://www.washingtonpost.com/technology/2023/05/18/texas-professor-threatened-fail-class-chatgpt-cheating/\n",
      "https://research.kudelskisecurity.com/2023/05/25/reducing-the-impact-of-prompt-injection-attacks-through-design/\n",
      "https://aivillage.org/large%20language%20models/threat-modeling-llm/\n",
      "https://embracethered.com/blog/posts/2023/chatgpt-cross-plugin-request-forgery-and-prompt-injection./\n",
      "https://developer.nvidia.com/blog/nvidia-ai-red-team-an-introduction/\n",
      "https://docs.kanaries.net/articles/google-bard-jailbreak\n",
      "https://csrc.nist.gov/publications/detail/white-paper/2023/03/08/adversarial-machine-learning-taxonomy-and-terminology/draft\n",
      "https://ico.org.uk/about-the-ico/media-centre/blog-generative-ai-eight-questions-that-developers-and-users-need-to-ask/\n",
      "https://www.ncsc.gov.uk/blog-post/chatgpt-and-large-language-models-whats-the-risk\n",
      "https://www.ncsc.gov.uk/collection/machine-learning\n",
      "https://www.europarl.europa.eu/news/en/headlines/society/20230601STO93804/eu-ai-act-first-regulation-on-artificial-intelligence\n",
      "https://arxiv.org/pdf/2009.11462.pdf\n",
      "https://arxiv.org/pdf/2211.09527.pdf\n",
      "https://arxiv.org/pdf/2012.07805.pdf\n",
      "https://research.nccgroup.com/wp-content/uploads/2022/07/practical-attacks-on-ml.pdf\n",
      "https://research.nccgroup.com/2022/12/05/exploring-prompt-injection-attacks/\n",
      "https://arxiv.org/pdf/2302.10291.pdf\n",
      "https://www.mdpi.com/2076-3417/13/11/6355\n",
      "https://www.semanticscholar.org/reader/c72dda16d65c7fb19aad22af9d5bc03f409c9652\n",
      "https://cdn.openai.com/papers/gpt-4.pdf\n",
      "https://arxiv.org/pdf/2302.12173.pdf\n",
      "https://arxiv.org/pdf/2305.00944.pdf\n",
      "https://arxiv.org/pdf/2303.18190.pdf\n",
      "https://www2.deloitte.com/content/dam/Deloitte/us/Documents/deloitte-analytics/us-ai-institute-generative-artificial-intelligence.pdf\n",
      "https://team8.vc/wp-content/uploads/2023/04/Team8-Generative-AI-and-ChatGPT-Enterprise-Risks.pdf\n",
      "https://docs.google.com/viewer?url=https://raw.githubusercontent.com/trailofbits/publications/master/papers/toward_comprehensive_risk_assessments.pdf\n",
      "https://cloudsecurityalliance.org/artifacts/security-implications-of-chatgpt/\n",
      "https://github.com/GangGreenTemperTatum/speaking/tree/main/apidays/2023/interface\n",
      "https://play.secdim.com/game/ai-battle\n",
      "https://ggpt.43z.one\n",
      "https://gandalf.lakera.ai\n",
      "https://owasp.org/www-project-ai-security-and-privacy-guide/\n",
      "https://github.com/harishsg993010/DamnVulnerableLLMProject\n"
     ]
    }
   ],
   "source": [
    "base_url = 'https://github.com/OWASP/www-project-top-10-for-large-language-model-applications/wiki/Educational-Resources'\n",
    "response = requests.get(base_url)\n",
    "soup = BeautifulSoup(response.text, 'html.parser')\n",
    "\n",
    "markdown = soup.find('div', class_='markdown-body')\n",
    "\n",
    "link_tag = markdown.find_all('a', href=True)\n",
    "\n",
    "links = [a.get('href') for a in link_tag]\n",
    "\n",
    "#print(len(links))\n",
    "ans = []\n",
    "\n",
    "for link in links:\n",
    "    #print(link)\n",
    "    if ('https' in link) and not ('youtube' in link or 'youtu.be' in link):\n",
    "        print(link)\n",
    "        ans.append(link)\n",
    "#print(len(ans))"
   ]
  },
  {
   "cell_type": "code",
   "execution_count": 28,
   "id": "637f81ad",
   "metadata": {},
   "outputs": [],
   "source": [
    "with open('OWASP_Educational_Resources.txt', 'w') as file:\n",
    "    for link in ans:\n",
    "        file.write(link+'\\n')"
   ]
  },
  {
   "cell_type": "markdown",
   "id": "e9c45184",
   "metadata": {},
   "source": [
    "## Awesome-LLM\n",
    "\n",
    "valuable source link to study about LLM, but nothing about AI security, so collect for future possible study, skip for right now.\n",
    "\n",
    "github link: https://github.com/Hannibal046/Awesome-LLM"
   ]
  },
  {
   "cell_type": "code",
   "execution_count": null,
   "id": "c8b25201",
   "metadata": {},
   "outputs": [],
   "source": []
  }
 ],
 "metadata": {
  "kernelspec": {
   "display_name": "Python 3 (ipykernel)",
   "language": "python",
   "name": "python3"
  },
  "language_info": {
   "codemirror_mode": {
    "name": "ipython",
    "version": 3
   },
   "file_extension": ".py",
   "mimetype": "text/x-python",
   "name": "python",
   "nbconvert_exporter": "python",
   "pygments_lexer": "ipython3",
   "version": "3.11.5"
  }
 },
 "nbformat": 4,
 "nbformat_minor": 5
}
